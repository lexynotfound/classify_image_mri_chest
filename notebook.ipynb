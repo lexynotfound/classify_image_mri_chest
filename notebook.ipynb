{
 "cells": [
  {
   "metadata": {},
   "cell_type": "markdown",
   "source": [
    "# Proyek Macihne Learning: Chest Image\n",
    "- **Nama:** Kurnia Raihan Ardian\n",
    "- **Email:** raihanardila22@gmail.com\n",
    "- **ID Dicoding:** raihanardila"
   ],
   "id": "1adce897a71742d8"
  },
  {
   "metadata": {},
   "cell_type": "markdown",
   "source": "Persiapan Library",
   "id": "b24b9b01a07232e3"
  },
  {
   "cell_type": "code",
   "id": "initial_id",
   "metadata": {
    "collapsed": true,
    "ExecuteTime": {
     "end_time": "2025-02-28T19:24:05.436331Z",
     "start_time": "2025-02-28T19:24:05.427075Z"
    }
   },
   "source": [
    "import os\n",
    "import numpy as np\n",
    "import matplotlib.pyplot as plt\n",
    "import tensorflow as tf\n",
    "import shutil\n",
    "import random\n",
    "from PIL import Image\n",
    "import kagglehub\n",
    "from tensorflow.keras.preprocessing.image import ImageDataGenerator\n",
    "from tensorflow.keras.callbacks import LearningRateScheduler\n",
    "from tensorflow.keras.applications import ResNet50\n",
    "from tensorflow.keras.layers import GlobalAveragePooling2D\n",
    "from tensorflow.keras.layers import BatchNormalization\n",
    "from tensorflow.keras.models import Sequential\n",
    "from tensorflow.keras.layers import Conv2D, MaxPooling2D, Flatten, Dense, Dropout\n",
    "from tensorflow.keras.optimizers import Adam\n",
    "from tensorflow.keras.layers import Input, Conv2D, MaxPooling2D, Flatten, Dense, Dropout, BatchNormalization\n",
    "from tensorflow.keras.layers import Input\n",
    "from tensorflow.keras.callbacks import EarlyStopping, ReduceLROnPlateau\n"
   ],
   "outputs": [],
   "execution_count": 38
  },
  {
   "metadata": {},
   "cell_type": "markdown",
   "source": "Load Dataset",
   "id": "7be79a103041aa61"
  },
  {
   "metadata": {
    "ExecuteTime": {
     "end_time": "2025-02-28T19:24:05.878639Z",
     "start_time": "2025-02-28T19:24:05.447913Z"
    }
   },
   "cell_type": "code",
   "source": [
    "# Path dataset yang benar\n",
    "dataset_path = \"/Users/s2idev/.cache/kagglehub/datasets/sayedgamal99/smoke-fire-detection-yolo/versions/1/data\"\n",
    "train_dir = os.path.join(dataset_path, \"train/images\")\n",
    "val_dir = os.path.join(dataset_path, \"val/images\")\n",
    "test_dir = os.path.join(dataset_path, \"test/images\")\n",
    "\n",
    "print(\"🔍 Train folder exists:\", os.path.exists(train_dir), \"-> Isi:\", len(os.listdir(train_dir)))\n",
    "print(\"🔍 Validation folder exists:\", os.path.exists(val_dir), \"-> Isi:\", len(os.listdir(val_dir)))\n",
    "print(\"🔍 Test folder exists:\", os.path.exists(test_dir), \"-> Isi:\", len(os.listdir(test_dir)))\n",
    "\n",
    "# Pastikan folder test ada\n",
    "os.makedirs(test_dir, exist_ok=True)\n",
    "\n",
    "# Ambil semua file gambar langsung dari train/images/\n",
    "image_files = os.listdir(train_dir)\n",
    "invalid_files = [f for f in image_files if not f.endswith(('.jpg', '.png'))]\n",
    "if invalid_files:\n",
    "    print(\"🚨 File dengan format tidak didukung ditemukan:\", invalid_files)\n",
    "    raise ValueError(\"🚨 Dataset memiliki file dengan format tidak didukung. Hapus atau konversi formatnya!\")\n",
    "\n",
    "# Tentukan 10% data untuk test set\n",
    "test_size = int(0.1 * len(image_files))\n",
    "test_files = random.sample(image_files, test_size)\n",
    "\n",
    "# Pindahkan file ke test/images/\n",
    "for file in test_files:\n",
    "    shutil.move(os.path.join(train_dir, file), os.path.join(test_dir, file))\n",
    "\n",
    "image_files = os.listdir(train_dir)\n",
    "invalid_files = [f for f in image_files if not f.endswith(('.jpg', '.png'))]\n",
    "if invalid_files:\n",
    "    print(\"🚨 File dengan format tidak didukung ditemukan:\", invalid_files)\n",
    "    raise ValueError(\"🚨 Dataset memiliki file dengan format tidak didukung. Hapus atau konversi formatnya!\")\n",
    "\n",
    "\n",
    "print(\"✅ Data telah dipisahkan menjadi Train, Validation, dan Test Set.\")"
   ],
   "id": "bf9e5b228898e510",
   "outputs": [
    {
     "name": "stdout",
     "output_type": "stream",
     "text": [
      "🔍 Train folder exists: True -> Isi: 5474\n",
      "🔍 Validation folder exists: True -> Isi: 3099\n",
      "🔍 Test folder exists: True -> Isi: 12955\n",
      "✅ Data telah dipisahkan menjadi Train, Validation, dan Test Set.\n"
     ]
    }
   ],
   "execution_count": 39
  },
  {
   "metadata": {},
   "cell_type": "markdown",
   "source": "Data Augmentation & Preprocessing",
   "id": "7839eb0b0edeadb7"
  },
  {
   "metadata": {
    "ExecuteTime": {
     "end_time": "2025-03-01T01:21:00.436828Z",
     "start_time": "2025-03-01T01:20:58.857842Z"
    }
   },
   "cell_type": "code",
   "source": [
    "# Data Augmentation & Preprocessing\n",
    "train_datagen = ImageDataGenerator(\n",
    "    rescale=1./255,\n",
    "    rotation_range=20,\n",
    "    width_shift_range=0.2,\n",
    "    height_shift_range=0.2,\n",
    "    shear_range=0.2,\n",
    "    zoom_range=0.2,\n",
    "    horizontal_flip=True\n",
    ")\n",
    "\n",
    "val_datagen = ImageDataGenerator(rescale=1./255)\n",
    "\n",
    "# Load Data\n",
    "train_generator = train_datagen.flow_from_directory(\n",
    "    os.path.dirname(train_dir),  # Ambil dari parent folder train/images\n",
    "    target_size=(150, 150),\n",
    "    batch_size=32,\n",
    "    class_mode=\"binary\"  # Gunakan \"categorical\" jika lebih dari 2 kelas\n",
    ")\n",
    "\n",
    "val_generator = val_datagen.flow_from_directory(\n",
    "    os.path.dirname(val_dir),\n",
    "    target_size=(150, 150),\n",
    "    batch_size=32,\n",
    "    class_mode=\"binary\"\n",
    ")\n",
    "\n",
    "test_generator = val_datagen.flow_from_directory(\n",
    "    os.path.dirname(test_dir),\n",
    "    target_size=(150, 150),\n",
    "    batch_size=32,\n",
    "    class_mode=\"binary\"\n",
    ")\n",
    "\n",
    "\n",
    "x_batch, y_batch = next(train_generator)\n",
    "print(\"✅ Dataset berhasil dimuat:\", x_batch.shape, y_batch.shape)\n",
    "\n",
    "num_classes = len(train_generator.class_indices)\n",
    "print(\"📂 Kelas dalam dataset:\", train_generator.class_indices)\n",
    "\n",
    "\n",
    "if len(train_generator) == 0:\n",
    "    raise ValueError(\"🚨 train_generator tidak memiliki data! Periksa path dan format file.\")\n",
    "if len(val_generator) == 0:\n",
    "    raise ValueError(\"🚨 val_generator tidak memiliki data! Periksa path dan format file.\")\n",
    "if len(test_generator) == 0:\n",
    "    raise ValueError(\"🚨 test_generator tidak memiliki data! Periksa path dan format file.\")\n",
    "\n"
   ],
   "id": "4ef6f03b082ec0cc",
   "outputs": [
    {
     "name": "stdout",
     "output_type": "stream",
     "text": [
      "Found 4927 images belonging to 2 classes.\n",
      "Found 3099 images belonging to 2 classes.\n",
      "Found 13501 images belonging to 2 classes.\n",
      "✅ Dataset berhasil dimuat: (32, 150, 150, 3) (32,)\n",
      "📂 Kelas dalam dataset: {'images': 0, 'labels': 1}\n"
     ]
    }
   ],
   "execution_count": 53
  },
  {
   "metadata": {},
   "cell_type": "markdown",
   "source": "Membangun Model CNN",
   "id": "845cce97dddfc60e"
  },
  {
   "metadata": {
    "ExecuteTime": {
     "end_time": "2025-03-01T01:21:05.587859Z",
     "start_time": "2025-03-01T01:21:04.993526Z"
    }
   },
   "cell_type": "code",
   "source": [
    "# Membangun Model CNN\n",
    "# Membangun Model CNN yang lebih kompleks\n",
    "model = Sequential([\n",
    "    Input(shape=(150,150,3)),\n",
    "    Conv2D(32, (3,3), activation='relu', padding='same'),\n",
    "    BatchNormalization(),\n",
    "    MaxPooling2D(2,2),\n",
    "\n",
    "    Conv2D(64, (3,3), activation='relu', padding='same'),\n",
    "    BatchNormalization(),\n",
    "    MaxPooling2D(2,2),\n",
    "\n",
    "    Conv2D(128, (3,3), activation='relu', padding='same'),\n",
    "    BatchNormalization(),\n",
    "    MaxPooling2D(2,2),\n",
    "\n",
    "    Conv2D(256, (3,3), activation='relu', padding='same'),\n",
    "    BatchNormalization(),\n",
    "    MaxPooling2D(2,2),\n",
    "\n",
    "    Flatten(),\n",
    "    Dense(256, activation='relu'),\n",
    "    Dropout(0.5),\n",
    "    Dense(1, activation='sigmoid')  # Gunakan 'softmax' jika multiclass\n",
    "])"
   ],
   "id": "af605d5ce2e880d4",
   "outputs": [],
   "execution_count": 54
  },
  {
   "metadata": {},
   "cell_type": "markdown",
   "source": "Compile Model",
   "id": "f4083fd1c52a894e"
  },
  {
   "metadata": {
    "ExecuteTime": {
     "end_time": "2025-03-01T01:21:08.130659Z",
     "start_time": "2025-03-01T01:21:08.086587Z"
    }
   },
   "cell_type": "code",
   "source": [
    "# Compile Model\n",
    "loss_function = 'categorical_crossentropy' if num_classes > 2 else 'binary_crossentropy'\n",
    "model.compile(optimizer=Adam(learning_rate=0.0003), loss=loss_function, metrics=['accuracy'])\n"
   ],
   "id": "f6790b084c657bc",
   "outputs": [],
   "execution_count": 55
  },
  {
   "metadata": {},
   "cell_type": "markdown",
   "source": "learning rate",
   "id": "d5a558173a068c29"
  },
  {
   "metadata": {
    "ExecuteTime": {
     "end_time": "2025-03-01T01:21:10.371129Z",
     "start_time": "2025-03-01T01:21:10.344762Z"
    }
   },
   "cell_type": "code",
   "source": [
    "def lr_schedule(epoch):\n",
    "    initial_lr = 0.0005\n",
    "    drop = 0.5\n",
    "    epochs_drop = 5\n",
    "    return initial_lr * (drop ** (epoch // epochs_drop))\n",
    "\n",
    "lr_scheduler = LearningRateScheduler(lr_schedule)\n"
   ],
   "id": "44047dfa6abf8f2b",
   "outputs": [],
   "execution_count": 56
  },
  {
   "metadata": {},
   "cell_type": "markdown",
   "source": "Callback: EarlyStopping & ReduceLROnPlateau",
   "id": "7beb014352511681"
  },
  {
   "metadata": {
    "ExecuteTime": {
     "end_time": "2025-03-01T01:21:15.984290Z",
     "start_time": "2025-03-01T01:21:15.963181Z"
    }
   },
   "cell_type": "code",
   "source": [
    "# Callback: EarlyStopping & ReduceLROnPlateau\n",
    "early_stopping = EarlyStopping(monitor='val_loss', patience=5, restore_best_weights=True)\n",
    "reduce_lr = ReduceLROnPlateau(monitor='val_loss', factor=0.2, patience=3, min_lr=1e-6)\n",
    "\n"
   ],
   "id": "8d938e50d4a20959",
   "outputs": [],
   "execution_count": 57
  },
  {
   "metadata": {},
   "cell_type": "markdown",
   "source": "Training Model",
   "id": "6ecc6f3655106b94"
  },
  {
   "metadata": {
    "ExecuteTime": {
     "end_time": "2025-02-28T21:35:22.079408Z",
     "start_time": "2025-02-28T19:24:07.255097Z"
    }
   },
   "cell_type": "code",
   "source": [
    "# Training Model\n",
    "history = model.fit(\n",
    "    train_generator,\n",
    "    validation_data=val_generator,\n",
    "    epochs=30,\n",
    "    callbacks=[early_stopping, reduce_lr]\n",
    ")\n"
   ],
   "id": "edc42aa8494c2c91",
   "outputs": [
    {
     "name": "stdout",
     "output_type": "stream",
     "text": [
      "Epoch 1/30\n",
      "\u001B[1m154/154\u001B[0m \u001B[32m━━━━━━━━━━━━━━━━━━━━\u001B[0m\u001B[37m\u001B[0m \u001B[1m219s\u001B[0m 1s/step - accuracy: 0.9868 - loss: 0.0232 - val_accuracy: 1.0000 - val_loss: 1.0808e-18 - learning_rate: 3.0000e-04\n",
      "Epoch 2/30\n",
      "\u001B[1m154/154\u001B[0m \u001B[32m━━━━━━━━━━━━━━━━━━━━\u001B[0m\u001B[37m\u001B[0m \u001B[1m239s\u001B[0m 2s/step - accuracy: 1.0000 - loss: 1.3654e-10 - val_accuracy: 1.0000 - val_loss: 6.2864e-23 - learning_rate: 3.0000e-04\n",
      "Epoch 3/30\n",
      "\u001B[1m154/154\u001B[0m \u001B[32m━━━━━━━━━━━━━━━━━━━━\u001B[0m\u001B[37m\u001B[0m \u001B[1m233s\u001B[0m 2s/step - accuracy: 1.0000 - loss: 6.5639e-12 - val_accuracy: 1.0000 - val_loss: 2.2645e-10 - learning_rate: 3.0000e-04\n",
      "Epoch 4/30\n",
      "\u001B[1m154/154\u001B[0m \u001B[32m━━━━━━━━━━━━━━━━━━━━\u001B[0m\u001B[37m\u001B[0m \u001B[1m240s\u001B[0m 2s/step - accuracy: 1.0000 - loss: 8.9395e-08 - val_accuracy: 1.0000 - val_loss: 2.9002e-09 - learning_rate: 3.0000e-04\n",
      "Epoch 5/30\n",
      "\u001B[1m154/154\u001B[0m \u001B[32m━━━━━━━━━━━━━━━━━━━━\u001B[0m\u001B[37m\u001B[0m \u001B[1m3123s\u001B[0m 20s/step - accuracy: 1.0000 - loss: 3.1328e-09 - val_accuracy: 1.0000 - val_loss: 1.1020e-10 - learning_rate: 6.0000e-05\n",
      "Epoch 6/30\n",
      "\u001B[1m154/154\u001B[0m \u001B[32m━━━━━━━━━━━━━━━━━━━━\u001B[0m\u001B[37m\u001B[0m \u001B[1m3449s\u001B[0m 23s/step - accuracy: 1.0000 - loss: 3.5669e-07 - val_accuracy: 1.0000 - val_loss: 3.1083e-11 - learning_rate: 6.0000e-05\n",
      "Epoch 7/30\n",
      "\u001B[1m154/154\u001B[0m \u001B[32m━━━━━━━━━━━━━━━━━━━━\u001B[0m\u001B[37m\u001B[0m \u001B[1m370s\u001B[0m 2s/step - accuracy: 1.0000 - loss: 4.9998e-07 - val_accuracy: 1.0000 - val_loss: 4.3618e-11 - learning_rate: 6.0000e-05\n"
     ]
    }
   ],
   "execution_count": 45
  },
  {
   "metadata": {},
   "cell_type": "markdown",
   "source": "Evaluasi Model",
   "id": "4e36b4d76c939651"
  },
  {
   "metadata": {
    "ExecuteTime": {
     "end_time": "2025-03-01T01:23:58.829519Z",
     "start_time": "2025-03-01T01:21:19.607037Z"
    }
   },
   "cell_type": "code",
   "source": [
    "# Evaluasi Model\n",
    "train_acc = history.history['accuracy'][-1]\n",
    "val_acc = history.history['val_accuracy'][-1]\n",
    "test_loss, test_acc = model.evaluate(test_generator)\n",
    "print(f\"✅ Akurasi Training: {train_acc*100:.2f}%\")\n",
    "print(f\"✅ Akurasi Validation: {val_acc*100:.2f}%\")\n",
    "print(f\"✅ Akurasi Model pada Test Set: {test_acc * 100:.2f}%\")"
   ],
   "id": "d0b2ca52616ebded",
   "outputs": [
    {
     "name": "stderr",
     "output_type": "stream",
     "text": [
      "/Users/s2idev/PycharmProjects/xraymodel/.venv/lib/python3.9/site-packages/keras/src/trainers/data_adapters/py_dataset_adapter.py:121: UserWarning: Your `PyDataset` class should call `super().__init__(**kwargs)` in its constructor. `**kwargs` can include `workers`, `use_multiprocessing`, `max_queue_size`. Do not pass these arguments to `fit()`, as they will be ignored.\n",
      "  self._warn_if_super_not_called()\n"
     ]
    },
    {
     "name": "stdout",
     "output_type": "stream",
     "text": [
      "\u001B[1m422/422\u001B[0m \u001B[32m━━━━━━━━━━━━━━━━━━━━\u001B[0m\u001B[37m\u001B[0m \u001B[1m158s\u001B[0m 373ms/step - accuracy: 0.9971 - loss: 0.6450\n",
      "✅ Akurasi Training: 100.00%\n",
      "✅ Akurasi Validation: 100.00%\n",
      "✅ Akurasi Model pada Test Set: 99.75%\n"
     ]
    }
   ],
   "execution_count": 58
  },
  {
   "metadata": {},
   "cell_type": "markdown",
   "source": "Plot Akurasi dan Loss",
   "id": "ff178933dea6df81"
  },
  {
   "metadata": {
    "ExecuteTime": {
     "end_time": "2025-03-01T01:24:05.550687Z",
     "start_time": "2025-03-01T01:24:01.550185Z"
    }
   },
   "cell_type": "code",
   "source": [
    "# Plot Akurasi dan Loss\n",
    "\n",
    "# Plot Akurasi\n",
    "plt.figure(figsize=(12, 5))\n",
    "plt.plot(history.history['accuracy'], label='Train Accuracy', marker='o')\n",
    "plt.plot(history.history['val_accuracy'], label='Validation Accuracy', marker='o')\n",
    "plt.title('Training & Validation Accuracy')\n",
    "plt.xlabel('Epoch')\n",
    "plt.ylabel('Accuracy')\n",
    "plt.legend()\n",
    "plt.grid(True)\n",
    "plt.show()\n",
    "\n",
    "# Plot Loss\n",
    "plt.figure(figsize=(12, 5))\n",
    "plt.plot(history.history['loss'], label='Train Loss', marker='o')\n",
    "plt.plot(history.history['val_loss'], label='Validation Loss', marker='o')\n",
    "plt.title('Training & Validation Loss')\n",
    "plt.xlabel('Epoch')\n",
    "plt.ylabel('Loss')\n",
    "plt.legend()\n",
    "plt.grid(True)\n",
    "plt.show()\n"
   ],
   "id": "7d1c8f9bd0d8a1a0",
   "outputs": [
    {
     "data": {
      "text/plain": [
       "<Figure size 1200x500 with 1 Axes>"
      ],
      "image/png": "[encoded data removed]"
     },
     "metadata": {},
     "output_type": "display_data"
    },
    {
     "data": {
      "text/plain": [
       "<Figure size 1200x500 with 1 Axes>"
      ],
      "image/png": "[encoded data removed]"
     },
     "metadata": {},
     "output_type": "display_data"
    }
   ],
   "execution_count": 59
  },
  {
   "metadata": {},
   "cell_type": "markdown",
   "source": "Menyimpan Model dalam 3 Format",
   "id": "a687c14597e891c9"
  },
  {
   "metadata": {
    "ExecuteTime": {
     "end_time": "2025-03-01T01:24:12.622859Z",
     "start_time": "2025-03-01T01:24:11.325362Z"
    }
   },
   "cell_type": "code",
   "source": [
    "# Menyimpan Model dalam 3 Format\n",
    "model.save(\"saved_model.keras\")\n",
    "\n",
    "model.save(\"saved_model.h5\")\n",
    "\n",
    "model.export(\"saved_model/\")  # Format TensorFlow SavedModel\n"
   ],
   "id": "c012ec1fe2fcbaad",
   "outputs": [
    {
     "name": "stderr",
     "output_type": "stream",
     "text": [
      "WARNING:absl:You are saving your model as an HDF5 file via `model.save()` or `keras.saving.save_model(model)`. This file format is considered legacy. We recommend using instead the native Keras format, e.g. `model.save('my_model.keras')` or `keras.saving.save_model(model, 'my_model.keras')`. \n"
     ]
    },
    {
     "name": "stdout",
     "output_type": "stream",
     "text": [
      "INFO:tensorflow:Assets written to: saved_model/assets\n"
     ]
    },
    {
     "name": "stderr",
     "output_type": "stream",
     "text": [
      "INFO:tensorflow:Assets written to: saved_model/assets\n"
     ]
    },
    {
     "name": "stdout",
     "output_type": "stream",
     "text": [
      "Saved artifact at 'saved_model/'. The following endpoints are available:\n",
      "\n",
      "* Endpoint 'serve'\n",
      "  args_0 (POSITIONAL_ONLY): TensorSpec(shape=(None, 150, 150, 3), dtype=tf.float32, name='keras_tensor_85')\n",
      "Output Type:\n",
      "  TensorSpec(shape=(None, 1), dtype=tf.float32, name=None)\n",
      "Captures:\n",
      "  6397480272: TensorSpec(shape=(), dtype=tf.resource, name=None)\n",
      "  6397495600: TensorSpec(shape=(), dtype=tf.resource, name=None)\n",
      "  6397513792: TensorSpec(shape=(), dtype=tf.resource, name=None)\n",
      "  6397513968: TensorSpec(shape=(), dtype=tf.resource, name=None)\n",
      "  6397496480: TensorSpec(shape=(), dtype=tf.resource, name=None)\n",
      "  6397496656: TensorSpec(shape=(), dtype=tf.resource, name=None)\n",
      "  6397516256: TensorSpec(shape=(), dtype=tf.resource, name=None)\n",
      "  6397516080: TensorSpec(shape=(), dtype=tf.resource, name=None)\n",
      "  6397530880: TensorSpec(shape=(), dtype=tf.resource, name=None)\n",
      "  6397531408: TensorSpec(shape=(), dtype=tf.resource, name=None)\n",
      "  6397530352: TensorSpec(shape=(), dtype=tf.resource, name=None)\n",
      "  6397530528: TensorSpec(shape=(), dtype=tf.resource, name=None)\n",
      "  6397533696: TensorSpec(shape=(), dtype=tf.resource, name=None)\n",
      "  6397533344: TensorSpec(shape=(), dtype=tf.resource, name=None)\n",
      "  6397556512: TensorSpec(shape=(), dtype=tf.resource, name=None)\n",
      "  6397557040: TensorSpec(shape=(), dtype=tf.resource, name=None)\n",
      "  6397555984: TensorSpec(shape=(), dtype=tf.resource, name=None)\n",
      "  6397556160: TensorSpec(shape=(), dtype=tf.resource, name=None)\n",
      "  6397567568: TensorSpec(shape=(), dtype=tf.resource, name=None)\n",
      "  6397567392: TensorSpec(shape=(), dtype=tf.resource, name=None)\n",
      "  6397569856: TensorSpec(shape=(), dtype=tf.resource, name=None)\n",
      "  6397570384: TensorSpec(shape=(), dtype=tf.resource, name=None)\n",
      "  6397569328: TensorSpec(shape=(), dtype=tf.resource, name=None)\n",
      "  6397569504: TensorSpec(shape=(), dtype=tf.resource, name=None)\n",
      "  6397597648: TensorSpec(shape=(), dtype=tf.resource, name=None)\n",
      "  6397597472: TensorSpec(shape=(), dtype=tf.resource, name=None)\n",
      "  6397599584: TensorSpec(shape=(), dtype=tf.resource, name=None)\n",
      "  6397534272: TensorSpec(shape=(), dtype=tf.resource, name=None)\n"
     ]
    }
   ],
   "execution_count": 60
  },
  {
   "metadata": {},
   "cell_type": "markdown",
   "source": "Konversi ke TF-Lite",
   "id": "f2c223b083562452"
  },
  {
   "metadata": {
    "ExecuteTime": {
     "end_time": "2025-03-01T01:24:17.779636Z",
     "start_time": "2025-03-01T01:24:16.441557Z"
    }
   },
   "cell_type": "code",
   "source": [
    "# Konversi ke TF-Lite\n",
    "converter = tf.lite.TFLiteConverter.from_saved_model(\"saved_model/\")\n",
    "tflite_model = converter.convert()\n",
    "os.makedirs(\"tflite\", exist_ok=True)\n",
    "with open(\"tflite/model.tflite\", \"wb\") as f:\n",
    "    f.write(tflite_model)\n",
    "\n",
    "    # Pastikan folder `assets/` ada\n",
    "assets_dir = \"saved_model/assets\"\n",
    "os.makedirs(assets_dir, exist_ok=True)\n",
    "\n",
    "# Simpan label ke dalam `assets/`\n",
    "labels = [\"Normal\", \"Pneumonia\", \"Tuberculosis\"]\n",
    "with open(os.path.join(assets_dir, \"labels.txt\"), \"w\") as f:\n",
    "    f.write(\"\\n\".join(labels))\n",
    "\n",
    "print(\"✅ Label berhasil ditambahkan ke saved_model/assets/\")"
   ],
   "id": "28795aff0f0333a",
   "outputs": [
    {
     "name": "stderr",
     "output_type": "stream",
     "text": [
      "W0000 00:00:1740792256.778695  692040 tf_tfl_flatbuffer_helpers.cc:390] Ignored output_format.\n",
      "W0000 00:00:1740792256.779771  692040 tf_tfl_flatbuffer_helpers.cc:393] Ignored drop_control_dependency.\n",
      "2025-03-01 08:24:16.783648: I tensorflow/cc/saved_model/reader.cc:83] Reading SavedModel from: saved_model/\n",
      "2025-03-01 08:24:16.785965: I tensorflow/cc/saved_model/reader.cc:51] Reading meta graph with tags { serve }\n",
      "2025-03-01 08:24:16.785987: I tensorflow/cc/saved_model/reader.cc:146] Reading SavedModel debug info (if present) from: saved_model/\n",
      "2025-03-01 08:24:16.826233: I tensorflow/cc/saved_model/loader.cc:234] Restoring SavedModel bundle.\n",
      "2025-03-01 08:24:16.989733: I tensorflow/cc/saved_model/loader.cc:218] Running initialization op on SavedModel bundle at path: saved_model/\n",
      "2025-03-01 08:24:17.014804: I tensorflow/cc/saved_model/loader.cc:317] SavedModel load for tags { serve }; Status: success: OK. Took 232034 microseconds.\n"
     ]
    },
    {
     "name": "stdout",
     "output_type": "stream",
     "text": [
      "✅ Label berhasil ditambahkan ke saved_model/assets/\n"
     ]
    }
   ],
   "execution_count": 61
  },
  {
   "metadata": {},
   "cell_type": "markdown",
   "source": "Simpan label TF-Lite",
   "id": "752bc7f17cf40c6a"
  },
  {
   "metadata": {
    "ExecuteTime": {
     "end_time": "2025-03-01T01:24:23.009150Z",
     "start_time": "2025-03-01T01:24:23.003692Z"
    }
   },
   "cell_type": "code",
   "source": [
    "# Simpan label TF-Lite\n",
    "labels = [\"Normal\", \"Pneumonia\", \"Tuberculosis\"]\n",
    "with open(\"tflite/label.txt\", \"w\") as f:\n",
    "    f.write(\"\\n\".join(labels))\n"
   ],
   "id": "650a5d615fd70925",
   "outputs": [],
   "execution_count": 63
  },
  {
   "metadata": {},
   "cell_type": "markdown",
   "source": "Konversi Model ke TFJS",
   "id": "40574900bf0e4b41"
  },
  {
   "metadata": {
    "ExecuteTime": {
     "end_time": "2025-03-01T01:24:50.148552Z",
     "start_time": "2025-03-01T01:24:25.398913Z"
    }
   },
   "cell_type": "code",
   "source": [
    "# Konversi Model ke TFJS\n",
    "!pip install tensorflowjs  # Pastikan TensorFlow.js sudah terinstal\n",
    "os.makedirs(\"tfjs_model\", exist_ok=True)\n",
    "!tensorflowjs_converter --input_format=tf_saved_model --output_format=tfjs_graph_model saved_model tfjs_model"
   ],
   "id": "e3eb982048e24610",
   "outputs": [
    {
     "name": "stdout",
     "output_type": "stream",
     "text": [
      "Requirement already satisfied: tensorflowjs in ./.venv/lib/python3.9/site-packages (4.22.0)\r\n",
      "Requirement already satisfied: flax>=0.7.2 in ./.venv/lib/python3.9/site-packages (from tensorflowjs) (0.8.5)\r\n",
      "Requirement already satisfied: importlib_resources>=5.9.0 in ./.venv/lib/python3.9/site-packages (from tensorflowjs) (6.5.2)\r\n",
      "Requirement already satisfied: jax>=0.4.13 in ./.venv/lib/python3.9/site-packages (from tensorflowjs) (0.4.30)\r\n",
      "Requirement already satisfied: jaxlib>=0.4.13 in ./.venv/lib/python3.9/site-packages (from tensorflowjs) (0.4.30)\r\n",
      "Requirement already satisfied: tensorflow<3,>=2.13.0 in ./.venv/lib/python3.9/site-packages (from tensorflowjs) (2.16.2)\r\n",
      "Requirement already satisfied: tf-keras>=2.13.0 in ./.venv/lib/python3.9/site-packages (from tensorflowjs) (2.16.0)\r\n",
      "Requirement already satisfied: tensorflow-decision-forests>=1.5.0 in ./.venv/lib/python3.9/site-packages (from tensorflowjs) (1.9.0)\r\n",
      "Requirement already satisfied: six<2,>=1.16.0 in ./.venv/lib/python3.9/site-packages (from tensorflowjs) (1.17.0)\r\n",
      "Requirement already satisfied: tensorflow-hub>=0.16.1 in ./.venv/lib/python3.9/site-packages (from tensorflowjs) (0.16.1)\r\n",
      "Requirement already satisfied: packaging~=23.1 in ./.venv/lib/python3.9/site-packages (from tensorflowjs) (23.2)\r\n",
      "Requirement already satisfied: numpy>=1.22 in ./.venv/lib/python3.9/site-packages (from flax>=0.7.2->tensorflowjs) (1.26.4)\r\n",
      "Requirement already satisfied: msgpack in ./.venv/lib/python3.9/site-packages (from flax>=0.7.2->tensorflowjs) (1.1.0)\r\n",
      "Requirement already satisfied: optax in ./.venv/lib/python3.9/site-packages (from flax>=0.7.2->tensorflowjs) (0.2.4)\r\n",
      "Requirement already satisfied: orbax-checkpoint in ./.venv/lib/python3.9/site-packages (from flax>=0.7.2->tensorflowjs) (0.6.4)\r\n",
      "Requirement already satisfied: tensorstore in ./.venv/lib/python3.9/site-packages (from flax>=0.7.2->tensorflowjs) (0.1.69)\r\n",
      "Requirement already satisfied: rich>=11.1 in ./.venv/lib/python3.9/site-packages (from flax>=0.7.2->tensorflowjs) (13.9.4)\r\n",
      "Requirement already satisfied: typing-extensions>=4.2 in ./.venv/lib/python3.9/site-packages (from flax>=0.7.2->tensorflowjs) (4.12.2)\r\n",
      "Requirement already satisfied: PyYAML>=5.4.1 in ./.venv/lib/python3.9/site-packages (from flax>=0.7.2->tensorflowjs) (6.0.2)\r\n",
      "Requirement already satisfied: zipp>=3.1.0 in ./.venv/lib/python3.9/site-packages (from importlib_resources>=5.9.0->tensorflowjs) (3.21.0)\r\n",
      "Requirement already satisfied: ml-dtypes>=0.2.0 in ./.venv/lib/python3.9/site-packages (from jax>=0.4.13->tensorflowjs) (0.3.2)\r\n",
      "Requirement already satisfied: opt-einsum in ./.venv/lib/python3.9/site-packages (from jax>=0.4.13->tensorflowjs) (3.4.0)\r\n",
      "Requirement already satisfied: scipy>=1.9 in ./.venv/lib/python3.9/site-packages (from jax>=0.4.13->tensorflowjs) (1.13.1)\r\n",
      "Requirement already satisfied: importlib-metadata>=4.6 in ./.venv/lib/python3.9/site-packages (from jax>=0.4.13->tensorflowjs) (8.6.1)\r\n",
      "Requirement already satisfied: absl-py>=1.0.0 in ./.venv/lib/python3.9/site-packages (from tensorflow<3,>=2.13.0->tensorflowjs) (2.1.0)\r\n",
      "Requirement already satisfied: astunparse>=1.6.0 in ./.venv/lib/python3.9/site-packages (from tensorflow<3,>=2.13.0->tensorflowjs) (1.6.3)\r\n",
      "Requirement already satisfied: flatbuffers>=23.5.26 in ./.venv/lib/python3.9/site-packages (from tensorflow<3,>=2.13.0->tensorflowjs) (25.2.10)\r\n",
      "Requirement already satisfied: gast!=0.5.0,!=0.5.1,!=0.5.2,>=0.2.1 in ./.venv/lib/python3.9/site-packages (from tensorflow<3,>=2.13.0->tensorflowjs) (0.6.0)\r\n",
      "Requirement already satisfied: google-pasta>=0.1.1 in ./.venv/lib/python3.9/site-packages (from tensorflow<3,>=2.13.0->tensorflowjs) (0.2.0)\r\n",
      "Requirement already satisfied: h5py>=3.10.0 in ./.venv/lib/python3.9/site-packages (from tensorflow<3,>=2.13.0->tensorflowjs) (3.13.0)\r\n",
      "Requirement already satisfied: libclang>=13.0.0 in ./.venv/lib/python3.9/site-packages (from tensorflow<3,>=2.13.0->tensorflowjs) (18.1.1)\r\n",
      "Requirement already satisfied: protobuf!=4.21.0,!=4.21.1,!=4.21.2,!=4.21.3,!=4.21.4,!=4.21.5,<5.0.0dev,>=3.20.3 in ./.venv/lib/python3.9/site-packages (from tensorflow<3,>=2.13.0->tensorflowjs) (4.25.6)\r\n",
      "Requirement already satisfied: requests<3,>=2.21.0 in ./.venv/lib/python3.9/site-packages (from tensorflow<3,>=2.13.0->tensorflowjs) (2.32.3)\r\n",
      "Requirement already satisfied: setuptools in ./.venv/lib/python3.9/site-packages (from tensorflow<3,>=2.13.0->tensorflowjs) (68.2.0)\r\n",
      "Requirement already satisfied: termcolor>=1.1.0 in ./.venv/lib/python3.9/site-packages (from tensorflow<3,>=2.13.0->tensorflowjs) (2.5.0)\r\n",
      "Requirement already satisfied: wrapt>=1.11.0 in ./.venv/lib/python3.9/site-packages (from tensorflow<3,>=2.13.0->tensorflowjs) (1.17.2)\r\n",
      "Requirement already satisfied: grpcio<2.0,>=1.24.3 in ./.venv/lib/python3.9/site-packages (from tensorflow<3,>=2.13.0->tensorflowjs) (1.70.0)\r\n",
      "Requirement already satisfied: tensorboard<2.17,>=2.16 in ./.venv/lib/python3.9/site-packages (from tensorflow<3,>=2.13.0->tensorflowjs) (2.16.2)\r\n",
      "Requirement already satisfied: keras>=3.0.0 in ./.venv/lib/python3.9/site-packages (from tensorflow<3,>=2.13.0->tensorflowjs) (3.8.0)\r\n",
      "Requirement already satisfied: tensorflow-io-gcs-filesystem>=0.23.1 in ./.venv/lib/python3.9/site-packages (from tensorflow<3,>=2.13.0->tensorflowjs) (0.37.1)\r\n",
      "Requirement already satisfied: pandas in ./.venv/lib/python3.9/site-packages (from tensorflow-decision-forests>=1.5.0->tensorflowjs) (2.2.3)\r\n",
      "Requirement already satisfied: wheel in ./.venv/lib/python3.9/site-packages (from tensorflow-decision-forests>=1.5.0->tensorflowjs) (0.41.2)\r\n",
      "Requirement already satisfied: wurlitzer in ./.venv/lib/python3.9/site-packages (from tensorflow-decision-forests>=1.5.0->tensorflowjs) (3.1.1)\r\n",
      "Requirement already satisfied: namex in ./.venv/lib/python3.9/site-packages (from keras>=3.0.0->tensorflow<3,>=2.13.0->tensorflowjs) (0.0.8)\r\n",
      "Requirement already satisfied: optree in ./.venv/lib/python3.9/site-packages (from keras>=3.0.0->tensorflow<3,>=2.13.0->tensorflowjs) (0.14.0)\r\n",
      "Requirement already satisfied: charset-normalizer<4,>=2 in ./.venv/lib/python3.9/site-packages (from requests<3,>=2.21.0->tensorflow<3,>=2.13.0->tensorflowjs) (3.4.1)\r\n",
      "Requirement already satisfied: idna<4,>=2.5 in ./.venv/lib/python3.9/site-packages (from requests<3,>=2.21.0->tensorflow<3,>=2.13.0->tensorflowjs) (3.10)\r\n",
      "Requirement already satisfied: urllib3<3,>=1.21.1 in ./.venv/lib/python3.9/site-packages (from requests<3,>=2.21.0->tensorflow<3,>=2.13.0->tensorflowjs) (2.3.0)\r\n",
      "Requirement already satisfied: certifi>=2017.4.17 in ./.venv/lib/python3.9/site-packages (from requests<3,>=2.21.0->tensorflow<3,>=2.13.0->tensorflowjs) (2025.1.31)\r\n",
      "Requirement already satisfied: markdown-it-py>=2.2.0 in ./.venv/lib/python3.9/site-packages (from rich>=11.1->flax>=0.7.2->tensorflowjs) (3.0.0)\r\n",
      "Requirement already satisfied: pygments<3.0.0,>=2.13.0 in ./.venv/lib/python3.9/site-packages (from rich>=11.1->flax>=0.7.2->tensorflowjs) (2.19.1)\r\n",
      "Requirement already satisfied: markdown>=2.6.8 in ./.venv/lib/python3.9/site-packages (from tensorboard<2.17,>=2.16->tensorflow<3,>=2.13.0->tensorflowjs) (3.7)\r\n",
      "Requirement already satisfied: tensorboard-data-server<0.8.0,>=0.7.0 in ./.venv/lib/python3.9/site-packages (from tensorboard<2.17,>=2.16->tensorflow<3,>=2.13.0->tensorflowjs) (0.7.2)\r\n",
      "Requirement already satisfied: werkzeug>=1.0.1 in ./.venv/lib/python3.9/site-packages (from tensorboard<2.17,>=2.16->tensorflow<3,>=2.13.0->tensorflowjs) (3.1.3)\r\n",
      "Requirement already satisfied: chex>=0.1.87 in ./.venv/lib/python3.9/site-packages (from optax->flax>=0.7.2->tensorflowjs) (0.1.89)\r\n",
      "Requirement already satisfied: etils[epy] in ./.venv/lib/python3.9/site-packages (from optax->flax>=0.7.2->tensorflowjs) (1.5.2)\r\n",
      "Requirement already satisfied: nest_asyncio in ./.venv/lib/python3.9/site-packages (from orbax-checkpoint->flax>=0.7.2->tensorflowjs) (1.6.0)\r\n",
      "Requirement already satisfied: humanize in ./.venv/lib/python3.9/site-packages (from orbax-checkpoint->flax>=0.7.2->tensorflowjs) (4.12.1)\r\n",
      "Requirement already satisfied: python-dateutil>=2.8.2 in ./.venv/lib/python3.9/site-packages (from pandas->tensorflow-decision-forests>=1.5.0->tensorflowjs) (2.9.0.post0)\r\n",
      "Requirement already satisfied: pytz>=2020.1 in ./.venv/lib/python3.9/site-packages (from pandas->tensorflow-decision-forests>=1.5.0->tensorflowjs) (2025.1)\r\n",
      "Requirement already satisfied: tzdata>=2022.7 in ./.venv/lib/python3.9/site-packages (from pandas->tensorflow-decision-forests>=1.5.0->tensorflowjs) (2025.1)\r\n",
      "Requirement already satisfied: toolz>=0.9.0 in ./.venv/lib/python3.9/site-packages (from chex>=0.1.87->optax->flax>=0.7.2->tensorflowjs) (1.0.0)\r\n",
      "Requirement already satisfied: mdurl~=0.1 in ./.venv/lib/python3.9/site-packages (from markdown-it-py>=2.2.0->rich>=11.1->flax>=0.7.2->tensorflowjs) (0.1.2)\r\n",
      "Requirement already satisfied: MarkupSafe>=2.1.1 in ./.venv/lib/python3.9/site-packages (from werkzeug>=1.0.1->tensorboard<2.17,>=2.16->tensorflow<3,>=2.13.0->tensorflowjs) (3.0.2)\r\n",
      "Requirement already satisfied: fsspec in ./.venv/lib/python3.9/site-packages (from etils[epath,epy]->orbax-checkpoint->flax>=0.7.2->tensorflowjs) (2025.2.0)\r\n",
      "WARNING:root:TensorFlow Decision Forests 1.9.0 is compatible with the following TensorFlow Versions: ['2.16.1']. However, TensorFlow 2.16.2 was detected. This can cause issues with the TF API and symbols in the custom C++ ops. See the TF and TF-DF compatibility table at https://github.com/tensorflow/decision-forests/blob/main/documentation/known_issues.md#compatibility-table.\r\n"
     ]
    }
   ],
   "execution_count": 64
  }
 ],
 "metadata": {
  "kernelspec": {
   "display_name": "Python 3",
   "language": "python",
   "name": "python3"
  },
  "language_info": {
   "codemirror_mode": {
    "name": "ipython",
    "version": 2
   },
   "file_extension": ".py",
   "mimetype": "text/x-python",
   "name": "python",
   "nbconvert_exporter": "python",
   "pygments_lexer": "ipython2",
   "version": "2.7.6"
  }
 },
 "nbformat": 4,
 "nbformat_minor": 5
}
