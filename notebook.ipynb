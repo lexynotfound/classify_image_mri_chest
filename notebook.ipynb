{
 "cells": [
  {
   "metadata": {},
   "cell_type": "markdown",
   "source": [
    "# Proyek Macihne Learning: Chest Image\n",
    "- **Nama:** Kurnia Raihan Ardian\n",
    "- **Email:** raihanardila22@gmail.com\n",
    "- **ID Dicoding:** raihanardila"
   ],
   "id": "1adce897a71742d8"
  },
  {
   "metadata": {},
   "cell_type": "markdown",
   "source": "Persiapan Library",
   "id": "b24b9b01a07232e3"
  },
  {
   "cell_type": "code",
   "id": "initial_id",
   "metadata": {
    "collapsed": true,
    "ExecuteTime": {
     "end_time": "2025-02-27T11:09:49.452018Z",
     "start_time": "2025-02-27T11:09:49.396088Z"
    }
   },
   "source": [
    "import os\n",
    "import numpy as np\n",
    "import matplotlib.pyplot as plt\n",
    "import tensorflow as tf\n",
    "from PIL import Image\n",
    "import kagglehub  # Untuk mengunduh dataset dari Kaggle\n",
    "from tensorflow.keras.preprocessing.image import ImageDataGenerator\n",
    "from tensorflow.keras.models import Sequential\n",
    "from tensorflow.keras.layers import Conv2D, MaxPooling2D, Flatten, Dense, Dropout\n",
    "from tensorflow.keras.optimizers import Adam\n",
    "from tensorflow.keras.callbacks import EarlyStopping, ReduceLROnPlateau\n"
   ],
   "outputs": [],
   "execution_count": 104
  },
  {
   "metadata": {},
   "cell_type": "markdown",
   "source": "Load Dataset",
   "id": "7be79a103041aa61"
  },
  {
   "metadata": {
    "ExecuteTime": {
     "end_time": "2025-02-27T11:09:49.626211Z",
     "start_time": "2025-02-27T11:09:49.476050Z"
    }
   },
   "cell_type": "code",
   "source": [
    "# Download Dataset dari KaggleHub\n",
    "dataset_path = \"/Users/s2idev/.cache/kagglehub/datasets/paultimothymooney/chest-xray-pneumonia/versions/2/chest_xray\"\n",
    "train_dir = os.path.join(dataset_path, \"train\")\n",
    "val_dir = os.path.join(dataset_path, \"val\")\n",
    "\n",
    "# ✅ Cek apakah folder training & validation ada\n",
    "print(\"🔍 Train folder:\", os.path.exists(train_dir))\n",
    "print(\"🔍 Validation folder:\", os.path.exists(val_dir))\n",
    "\n",
    "# ✅ Cek jumlah gambar di setiap folder\n",
    "for root, dirs, files in os.walk(dataset_path):\n",
    "    print(f\"📁 {root}: {len(files)} file\")\n",
    "\n"
   ],
   "id": "bf9e5b228898e510",
   "outputs": [
    {
     "name": "stdout",
     "output_type": "stream",
     "text": [
      "🔍 Train folder: True\n",
      "🔍 Validation folder: True\n",
      "📁 /Users/s2idev/.cache/kagglehub/datasets/paultimothymooney/chest-xray-pneumonia/versions/2/chest_xray: 0 file\n",
      "📁 /Users/s2idev/.cache/kagglehub/datasets/paultimothymooney/chest-xray-pneumonia/versions/2/chest_xray/test: 0 file\n",
      "📁 /Users/s2idev/.cache/kagglehub/datasets/paultimothymooney/chest-xray-pneumonia/versions/2/chest_xray/test/PNEUMONIA: 390 file\n",
      "📁 /Users/s2idev/.cache/kagglehub/datasets/paultimothymooney/chest-xray-pneumonia/versions/2/chest_xray/test/NORMAL: 234 file\n",
      "📁 /Users/s2idev/.cache/kagglehub/datasets/paultimothymooney/chest-xray-pneumonia/versions/2/chest_xray/chest_xray: 0 file\n",
      "📁 /Users/s2idev/.cache/kagglehub/datasets/paultimothymooney/chest-xray-pneumonia/versions/2/chest_xray/chest_xray/test: 0 file\n",
      "📁 /Users/s2idev/.cache/kagglehub/datasets/paultimothymooney/chest-xray-pneumonia/versions/2/chest_xray/chest_xray/test/PNEUMONIA: 390 file\n",
      "📁 /Users/s2idev/.cache/kagglehub/datasets/paultimothymooney/chest-xray-pneumonia/versions/2/chest_xray/chest_xray/test/NORMAL: 234 file\n",
      "📁 /Users/s2idev/.cache/kagglehub/datasets/paultimothymooney/chest-xray-pneumonia/versions/2/chest_xray/chest_xray/train: 0 file\n",
      "📁 /Users/s2idev/.cache/kagglehub/datasets/paultimothymooney/chest-xray-pneumonia/versions/2/chest_xray/chest_xray/train/PNEUMONIA: 3875 file\n",
      "📁 /Users/s2idev/.cache/kagglehub/datasets/paultimothymooney/chest-xray-pneumonia/versions/2/chest_xray/chest_xray/train/NORMAL: 1341 file\n",
      "📁 /Users/s2idev/.cache/kagglehub/datasets/paultimothymooney/chest-xray-pneumonia/versions/2/chest_xray/chest_xray/val: 0 file\n",
      "📁 /Users/s2idev/.cache/kagglehub/datasets/paultimothymooney/chest-xray-pneumonia/versions/2/chest_xray/chest_xray/val/PNEUMONIA: 8 file\n",
      "📁 /Users/s2idev/.cache/kagglehub/datasets/paultimothymooney/chest-xray-pneumonia/versions/2/chest_xray/chest_xray/val/NORMAL: 8 file\n",
      "📁 /Users/s2idev/.cache/kagglehub/datasets/paultimothymooney/chest-xray-pneumonia/versions/2/chest_xray/__MACOSX: 0 file\n",
      "📁 /Users/s2idev/.cache/kagglehub/datasets/paultimothymooney/chest-xray-pneumonia/versions/2/chest_xray/__MACOSX/chest_xray: 0 file\n",
      "📁 /Users/s2idev/.cache/kagglehub/datasets/paultimothymooney/chest-xray-pneumonia/versions/2/chest_xray/__MACOSX/chest_xray/test: 0 file\n",
      "📁 /Users/s2idev/.cache/kagglehub/datasets/paultimothymooney/chest-xray-pneumonia/versions/2/chest_xray/__MACOSX/chest_xray/test/PNEUMONIA: 0 file\n",
      "📁 /Users/s2idev/.cache/kagglehub/datasets/paultimothymooney/chest-xray-pneumonia/versions/2/chest_xray/__MACOSX/chest_xray/test/NORMAL: 0 file\n",
      "📁 /Users/s2idev/.cache/kagglehub/datasets/paultimothymooney/chest-xray-pneumonia/versions/2/chest_xray/__MACOSX/chest_xray/train: 0 file\n",
      "📁 /Users/s2idev/.cache/kagglehub/datasets/paultimothymooney/chest-xray-pneumonia/versions/2/chest_xray/__MACOSX/chest_xray/train/PNEUMONIA: 0 file\n",
      "📁 /Users/s2idev/.cache/kagglehub/datasets/paultimothymooney/chest-xray-pneumonia/versions/2/chest_xray/__MACOSX/chest_xray/train/NORMAL: 0 file\n",
      "📁 /Users/s2idev/.cache/kagglehub/datasets/paultimothymooney/chest-xray-pneumonia/versions/2/chest_xray/__MACOSX/chest_xray/val: 0 file\n",
      "📁 /Users/s2idev/.cache/kagglehub/datasets/paultimothymooney/chest-xray-pneumonia/versions/2/chest_xray/__MACOSX/chest_xray/val/PNEUMONIA: 0 file\n",
      "📁 /Users/s2idev/.cache/kagglehub/datasets/paultimothymooney/chest-xray-pneumonia/versions/2/chest_xray/__MACOSX/chest_xray/val/NORMAL: 0 file\n",
      "📁 /Users/s2idev/.cache/kagglehub/datasets/paultimothymooney/chest-xray-pneumonia/versions/2/chest_xray/train: 0 file\n",
      "📁 /Users/s2idev/.cache/kagglehub/datasets/paultimothymooney/chest-xray-pneumonia/versions/2/chest_xray/train/PNEUMONIA: 3875 file\n",
      "📁 /Users/s2idev/.cache/kagglehub/datasets/paultimothymooney/chest-xray-pneumonia/versions/2/chest_xray/train/NORMAL: 1341 file\n",
      "📁 /Users/s2idev/.cache/kagglehub/datasets/paultimothymooney/chest-xray-pneumonia/versions/2/chest_xray/val: 0 file\n",
      "📁 /Users/s2idev/.cache/kagglehub/datasets/paultimothymooney/chest-xray-pneumonia/versions/2/chest_xray/val/PNEUMONIA: 8 file\n",
      "📁 /Users/s2idev/.cache/kagglehub/datasets/paultimothymooney/chest-xray-pneumonia/versions/2/chest_xray/val/NORMAL: 8 file\n"
     ]
    }
   ],
   "execution_count": 105
  },
  {
   "metadata": {},
   "cell_type": "markdown",
   "source": "Data Augmentation & Preprocessing",
   "id": "7839eb0b0edeadb7"
  },
  {
   "metadata": {
    "ExecuteTime": {
     "end_time": "2025-02-27T11:12:07.877Z",
     "start_time": "2025-02-27T11:12:07.013166Z"
    }
   },
   "cell_type": "code",
   "source": [
    "# Data Augmentation & Preprocessing\n",
    "train_datagen = ImageDataGenerator(\n",
    "    rescale=1./255,\n",
    "    rotation_range=20,\n",
    "    width_shift_range=0.2,\n",
    "    height_shift_range=0.2,\n",
    "    shear_range=0.2,\n",
    "    zoom_range=0.2,\n",
    "    horizontal_flip=True\n",
    ")\n",
    "\n",
    "val_datagen = ImageDataGenerator(rescale=1./255)  # Tidak perlu augmentasi pada validasi\n",
    "\n",
    "train_generator = train_datagen.flow_from_directory(\n",
    "    train_dir,  # ✅ Path dataset training yang benar\n",
    "    target_size=(150, 150),\n",
    "    batch_size=32,\n",
    "    class_mode='categorical'\n",
    ")\n",
    "\n",
    "val_generator = val_datagen.flow_from_directory(\n",
    "    val_dir,  # ✅ Path dataset validation yang benar\n",
    "    target_size=(150, 150),\n",
    "    batch_size=32,\n",
    "    class_mode='categorical'\n",
    ")\n",
    "\n",
    "x_batch, y_batch = next(train_generator)\n",
    "print(\"✅ Dataset berhasil dimuat:\", x_batch.shape, y_batch.shape)\n",
    "\n",
    "num_classes = len(train_generator.class_indices)\n",
    "print(\"📂 Kelas dalam dataset:\", train_generator.class_indices)\n",
    "\n",
    "\n"
   ],
   "id": "4ef6f03b082ec0cc",
   "outputs": [
    {
     "name": "stdout",
     "output_type": "stream",
     "text": [
      "Found 5216 images belonging to 2 classes.\n",
      "Found 16 images belonging to 2 classes.\n",
      "✅ Dataset berhasil dimuat: (32, 150, 150, 3) (32, 2)\n",
      "📂 Kelas dalam dataset: {'NORMAL': 0, 'PNEUMONIA': 1}\n"
     ]
    }
   ],
   "execution_count": 113
  },
  {
   "metadata": {},
   "cell_type": "markdown",
   "source": "Membangun Model CNN",
   "id": "845cce97dddfc60e"
  },
  {
   "metadata": {
    "ExecuteTime": {
     "end_time": "2025-02-27T11:14:17.216188Z",
     "start_time": "2025-02-27T11:14:17.118761Z"
    }
   },
   "cell_type": "code",
   "source": [
    "# Membangun Model CNN\n",
    "model = Sequential([\n",
    "    Conv2D(32, (3,3), activation='relu', input_shape=(150,150,3)),\n",
    "    MaxPooling2D(2,2),\n",
    "\n",
    "    Conv2D(64, (3,3), activation='relu'),\n",
    "    MaxPooling2D(2,2),\n",
    "\n",
    "    Conv2D(128, (3,3), activation='relu'),\n",
    "    MaxPooling2D(2,2),\n",
    "\n",
    "    Flatten(),\n",
    "    Dense(128, activation='relu'),\n",
    "    Dropout(0.5),\n",
    "    Dense(num_classes, activation='softmax' if num_classes > 2 else 'sigmoid')  # ✅ Sesuaikan jumlah output\n",
    "])"
   ],
   "id": "af605d5ce2e880d4",
   "outputs": [],
   "execution_count": 117
  },
  {
   "metadata": {},
   "cell_type": "markdown",
   "source": "Compile Model",
   "id": "f4083fd1c52a894e"
  },
  {
   "metadata": {
    "ExecuteTime": {
     "end_time": "2025-02-27T11:14:19.773127Z",
     "start_time": "2025-02-27T11:14:19.752008Z"
    }
   },
   "cell_type": "code",
   "source": [
    "# Compile Model\n",
    "loss_function = 'categorical_crossentropy' if num_classes > 2 else 'binary_crossentropy'\n",
    "model.compile(optimizer=Adam(learning_rate=0.0001), loss=loss_function, metrics=['accuracy'])\n",
    "\n"
   ],
   "id": "f6790b084c657bc",
   "outputs": [],
   "execution_count": 118
  },
  {
   "metadata": {},
   "cell_type": "markdown",
   "source": "Callback: EarlyStopping & ReduceLROnPlateau",
   "id": "7beb014352511681"
  },
  {
   "metadata": {
    "ExecuteTime": {
     "end_time": "2025-02-27T11:14:21.186867Z",
     "start_time": "2025-02-27T11:14:21.181423Z"
    }
   },
   "cell_type": "code",
   "source": [
    "# Callback: EarlyStopping & ReduceLROnPlateau\n",
    "early_stopping = EarlyStopping(monitor='val_loss', patience=5, restore_best_weights=True)\n",
    "reduce_lr = ReduceLROnPlateau(monitor='val_loss', factor=0.2, patience=3, min_lr=1e-6)\n",
    "\n"
   ],
   "id": "8d938e50d4a20959",
   "outputs": [],
   "execution_count": 119
  },
  {
   "metadata": {},
   "cell_type": "markdown",
   "source": "Training Model",
   "id": "6ecc6f3655106b94"
  },
  {
   "metadata": {
    "ExecuteTime": {
     "end_time": "2025-02-27T11:32:19.960385Z",
     "start_time": "2025-02-27T11:14:22.669212Z"
    }
   },
   "cell_type": "code",
   "source": [
    "# Training Model\n",
    "history = model.fit(\n",
    "    train_generator, validation_data=val_generator, epochs=50, callbacks=[early_stopping, reduce_lr]\n",
    ")\n"
   ],
   "id": "edc42aa8494c2c91",
   "outputs": [
    {
     "name": "stdout",
     "output_type": "stream",
     "text": [
      "Epoch 1/50\n",
      "\u001B[1m163/163\u001B[0m \u001B[32m━━━━━━━━━━━━━━━━━━━━\u001B[0m\u001B[37m\u001B[0m \u001B[1m155s\u001B[0m 931ms/step - accuracy: 0.7342 - loss: 0.5878 - val_accuracy: 0.6250 - val_loss: 0.6619 - learning_rate: 1.0000e-04\n",
      "Epoch 2/50\n",
      "\u001B[1m163/163\u001B[0m \u001B[32m━━━━━━━━━━━━━━━━━━━━\u001B[0m\u001B[37m\u001B[0m \u001B[1m143s\u001B[0m 869ms/step - accuracy: 0.7731 - loss: 0.4464 - val_accuracy: 0.6250 - val_loss: 0.9733 - learning_rate: 1.0000e-04\n",
      "Epoch 3/50\n",
      "\u001B[1m163/163\u001B[0m \u001B[32m━━━━━━━━━━━━━━━━━━━━\u001B[0m\u001B[37m\u001B[0m \u001B[1m124s\u001B[0m 759ms/step - accuracy: 0.8276 - loss: 0.3432 - val_accuracy: 0.6250 - val_loss: 0.6394 - learning_rate: 1.0000e-04\n",
      "Epoch 4/50\n",
      "\u001B[1m163/163\u001B[0m \u001B[32m━━━━━━━━━━━━━━━━━━━━\u001B[0m\u001B[37m\u001B[0m \u001B[1m126s\u001B[0m 769ms/step - accuracy: 0.8410 - loss: 0.3324 - val_accuracy: 0.6250 - val_loss: 1.0258 - learning_rate: 1.0000e-04\n",
      "Epoch 5/50\n",
      "\u001B[1m163/163\u001B[0m \u001B[32m━━━━━━━━━━━━━━━━━━━━\u001B[0m\u001B[37m\u001B[0m \u001B[1m147s\u001B[0m 899ms/step - accuracy: 0.8710 - loss: 0.2875 - val_accuracy: 0.6250 - val_loss: 1.2350 - learning_rate: 1.0000e-04\n",
      "Epoch 6/50\n",
      "\u001B[1m163/163\u001B[0m \u001B[32m━━━━━━━━━━━━━━━━━━━━\u001B[0m\u001B[37m\u001B[0m \u001B[1m128s\u001B[0m 785ms/step - accuracy: 0.8778 - loss: 0.2773 - val_accuracy: 0.6250 - val_loss: 0.8643 - learning_rate: 1.0000e-04\n",
      "Epoch 7/50\n",
      "\u001B[1m163/163\u001B[0m \u001B[32m━━━━━━━━━━━━━━━━━━━━\u001B[0m\u001B[37m\u001B[0m \u001B[1m122s\u001B[0m 744ms/step - accuracy: 0.9007 - loss: 0.2583 - val_accuracy: 0.6250 - val_loss: 1.0112 - learning_rate: 2.0000e-05\n",
      "Epoch 8/50\n",
      "\u001B[1m163/163\u001B[0m \u001B[32m━━━━━━━━━━━━━━━━━━━━\u001B[0m\u001B[37m\u001B[0m \u001B[1m132s\u001B[0m 806ms/step - accuracy: 0.9025 - loss: 0.2512 - val_accuracy: 0.6250 - val_loss: 0.8962 - learning_rate: 2.0000e-05\n"
     ]
    }
   ],
   "execution_count": 120
  },
  {
   "metadata": {},
   "cell_type": "markdown",
   "source": "Evaluasi Model",
   "id": "4e36b4d76c939651"
  },
  {
   "metadata": {
    "ExecuteTime": {
     "end_time": "2025-02-27T11:09:51.313874Z",
     "start_time": "2025-02-27T09:48:16.484708Z"
    }
   },
   "cell_type": "code",
   "source": [
    "# Evaluasi Model\n",
    "train_acc = history.history['accuracy'][-1]\n",
    "val_acc = history.history['val_accuracy'][-1]\n",
    "print(f\"✅ Akurasi Training: {train_acc*100:.2f}%\")\n",
    "print(f\"✅ Akurasi Validation: {val_acc*100:.2f}%\")"
   ],
   "id": "d0b2ca52616ebded",
   "outputs": [
    {
     "name": "stdout",
     "output_type": "stream",
     "text": [
      "✅ Akurasi Training: 90.07%\n",
      "✅ Akurasi Validation: 75.00%\n"
     ]
    }
   ],
   "execution_count": 84
  },
  {
   "metadata": {},
   "cell_type": "markdown",
   "source": "Plot Akurasi dan Loss",
   "id": "ff178933dea6df81"
  },
  {
   "metadata": {
    "ExecuteTime": {
     "end_time": "2025-02-27T11:32:45.220654Z",
     "start_time": "2025-02-27T11:32:44.360046Z"
    }
   },
   "cell_type": "code",
   "source": [
    "# Plot Akurasi dan Loss\n",
    "\n",
    "# Plot Akurasi\n",
    "plt.figure(figsize=(12, 5))\n",
    "plt.plot(history.history['accuracy'], label='Train Accuracy', marker='o')\n",
    "plt.plot(history.history['val_accuracy'], label='Validation Accuracy', marker='o')\n",
    "plt.title('Training & Validation Accuracy')\n",
    "plt.xlabel('Epoch')\n",
    "plt.ylabel('Accuracy')\n",
    "plt.legend()\n",
    "plt.grid(True)\n",
    "plt.show()\n",
    "\n",
    "# Plot Loss\n",
    "plt.figure(figsize=(12, 5))\n",
    "plt.plot(history.history['loss'], label='Train Loss', marker='o')\n",
    "plt.plot(history.history['val_loss'], label='Validation Loss', marker='o')\n",
    "plt.title('Training & Validation Loss')\n",
    "plt.xlabel('Epoch')\n",
    "plt.ylabel('Loss')\n",
    "plt.legend()\n",
    "plt.grid(True)\n",
    "plt.show()\n"
   ],
   "id": "7d1c8f9bd0d8a1a0",
   "outputs": [
    {
     "data": {
      "text/plain": [
       "<Figure size 1200x500 with 1 Axes>"
      ],
      "image/png": "[encoded data removed]"
     },
     "metadata": {},
     "output_type": "display_data"
    },
    {
     "data": {
      "text/plain": [
       "<Figure size 1200x500 with 1 Axes>"
      ],
      "image/png": "[encoded data removed]"
     },
     "metadata": {},
     "output_type": "display_data"
    }
   ],
   "execution_count": 121
  },
  {
   "metadata": {},
   "cell_type": "markdown",
   "source": "Menyimpan Model dalam 3 Format",
   "id": "a687c14597e891c9"
  },
  {
   "metadata": {
    "ExecuteTime": {
     "end_time": "2025-02-27T11:32:53.223575Z",
     "start_time": "2025-02-27T11:32:51.622398Z"
    }
   },
   "cell_type": "code",
   "source": [
    "# Menyimpan Model dalam 3 Format\n",
    "model.save(\"saved_model.keras\")\n",
    "\n",
    "model.save(\"saved_model.h5\")\n",
    "\n",
    "model.export(\"saved_model/\")  # Format TensorFlow SavedModel\n"
   ],
   "id": "c012ec1fe2fcbaad",
   "outputs": [
    {
     "name": "stderr",
     "output_type": "stream",
     "text": [
      "WARNING:absl:You are saving your model as an HDF5 file via `model.save()` or `keras.saving.save_model(model)`. This file format is considered legacy. We recommend using instead the native Keras format, e.g. `model.save('my_model.keras')` or `keras.saving.save_model(model, 'my_model.keras')`. \n"
     ]
    },
    {
     "name": "stdout",
     "output_type": "stream",
     "text": [
      "INFO:tensorflow:Assets written to: saved_model/assets\n"
     ]
    },
    {
     "name": "stderr",
     "output_type": "stream",
     "text": [
      "INFO:tensorflow:Assets written to: saved_model/assets\n"
     ]
    },
    {
     "name": "stdout",
     "output_type": "stream",
     "text": [
      "Saved artifact at 'saved_model/'. The following endpoints are available:\n",
      "\n",
      "* Endpoint 'serve'\n",
      "  args_0 (POSITIONAL_ONLY): TensorSpec(shape=(None, 150, 150, 3), dtype=tf.float32, name='keras_tensor_165')\n",
      "Output Type:\n",
      "  TensorSpec(shape=(None, 2), dtype=tf.float32, name=None)\n",
      "Captures:\n",
      "  6613571184: TensorSpec(shape=(), dtype=tf.resource, name=None)\n",
      "  6613570304: TensorSpec(shape=(), dtype=tf.resource, name=None)\n",
      "  6613574928: TensorSpec(shape=(), dtype=tf.resource, name=None)\n",
      "  6613574752: TensorSpec(shape=(), dtype=tf.resource, name=None)\n",
      "  6613576864: TensorSpec(shape=(), dtype=tf.resource, name=None)\n",
      "  6613576512: TensorSpec(shape=(), dtype=tf.resource, name=None)\n",
      "  6613431744: TensorSpec(shape=(), dtype=tf.resource, name=None)\n",
      "  6613431568: TensorSpec(shape=(), dtype=tf.resource, name=None)\n",
      "  6613433680: TensorSpec(shape=(), dtype=tf.resource, name=None)\n",
      "  6613433328: TensorSpec(shape=(), dtype=tf.resource, name=None)\n"
     ]
    }
   ],
   "execution_count": 122
  },
  {
   "metadata": {},
   "cell_type": "markdown",
   "source": "Konversi ke TF-Lite",
   "id": "f2c223b083562452"
  },
  {
   "metadata": {
    "ExecuteTime": {
     "end_time": "2025-02-27T11:34:16.807553Z",
     "start_time": "2025-02-27T11:34:15.480325Z"
    }
   },
   "cell_type": "code",
   "source": [
    "# Konversi ke TF-Lite\n",
    "converter = tf.lite.TFLiteConverter.from_saved_model(\"saved_model/\")\n",
    "tflite_model = converter.convert()\n",
    "os.makedirs(\"tflite\", exist_ok=True)\n",
    "with open(\"tflite/model.tflite\", \"wb\") as f:\n",
    "    f.write(tflite_model)"
   ],
   "id": "28795aff0f0333a",
   "outputs": [
    {
     "name": "stderr",
     "output_type": "stream",
     "text": [
      "W0000 00:00:1740656055.950031  184143 tf_tfl_flatbuffer_helpers.cc:390] Ignored output_format.\n",
      "W0000 00:00:1740656055.952247  184143 tf_tfl_flatbuffer_helpers.cc:393] Ignored drop_control_dependency.\n",
      "2025-02-27 18:34:15.960044: I tensorflow/cc/saved_model/reader.cc:83] Reading SavedModel from: saved_model/\n",
      "2025-02-27 18:34:15.963465: I tensorflow/cc/saved_model/reader.cc:51] Reading meta graph with tags { serve }\n",
      "2025-02-27 18:34:15.963484: I tensorflow/cc/saved_model/reader.cc:146] Reading SavedModel debug info (if present) from: saved_model/\n",
      "2025-02-27 18:34:15.990209: I tensorflow/cc/saved_model/loader.cc:234] Restoring SavedModel bundle.\n",
      "2025-02-27 18:34:16.149031: I tensorflow/cc/saved_model/loader.cc:218] Running initialization op on SavedModel bundle at path: saved_model/\n",
      "2025-02-27 18:34:16.167480: I tensorflow/cc/saved_model/loader.cc:317] SavedModel load for tags { serve }; Status: success: OK. Took 208123 microseconds.\n"
     ]
    }
   ],
   "execution_count": 123
  },
  {
   "metadata": {},
   "cell_type": "markdown",
   "source": "Simpan label TF-Lite",
   "id": "752bc7f17cf40c6a"
  },
  {
   "metadata": {
    "ExecuteTime": {
     "end_time": "2025-02-27T11:34:19.391143Z",
     "start_time": "2025-02-27T11:34:19.379479Z"
    }
   },
   "cell_type": "code",
   "source": [
    "# Simpan label TF-Lite\n",
    "labels = [\"Normal\", \"Pneumonia\", \"Tuberculosis\"]\n",
    "with open(\"tflite/label.txt\", \"w\") as f:\n",
    "    f.write(\"\\n\".join(labels))\n"
   ],
   "id": "650a5d615fd70925",
   "outputs": [],
   "execution_count": 124
  },
  {
   "metadata": {},
   "cell_type": "markdown",
   "source": "Konversi Model ke TFJS",
   "id": "40574900bf0e4b41"
  },
  {
   "metadata": {
    "ExecuteTime": {
     "end_time": "2025-02-27T11:34:47.220953Z",
     "start_time": "2025-02-27T11:34:23.730759Z"
    }
   },
   "cell_type": "code",
   "source": [
    "# Konversi Model ke TFJS\n",
    "!pip install tensorflowjs  # Pastikan TensorFlow.js sudah terinstal\n",
    "os.makedirs(\"tfjs_model\", exist_ok=True)\n",
    "!tensorflowjs_converter --input_format=tf_saved_model --output_format=tfjs_graph_model saved_model tfjs_model"
   ],
   "id": "e3eb982048e24610",
   "outputs": [
    {
     "name": "stdout",
     "output_type": "stream",
     "text": [
      "Requirement already satisfied: tensorflowjs in ./.venv/lib/python3.9/site-packages (4.22.0)\r\n",
      "Requirement already satisfied: flax>=0.7.2 in ./.venv/lib/python3.9/site-packages (from tensorflowjs) (0.8.5)\r\n",
      "Requirement already satisfied: importlib_resources>=5.9.0 in ./.venv/lib/python3.9/site-packages (from tensorflowjs) (6.5.2)\r\n",
      "Requirement already satisfied: jax>=0.4.13 in ./.venv/lib/python3.9/site-packages (from tensorflowjs) (0.4.30)\r\n",
      "Requirement already satisfied: jaxlib>=0.4.13 in ./.venv/lib/python3.9/site-packages (from tensorflowjs) (0.4.30)\r\n",
      "Requirement already satisfied: tensorflow<3,>=2.13.0 in ./.venv/lib/python3.9/site-packages (from tensorflowjs) (2.16.2)\r\n",
      "Requirement already satisfied: tf-keras>=2.13.0 in ./.venv/lib/python3.9/site-packages (from tensorflowjs) (2.16.0)\r\n",
      "Requirement already satisfied: tensorflow-decision-forests>=1.5.0 in ./.venv/lib/python3.9/site-packages (from tensorflowjs) (1.9.0)\r\n",
      "Requirement already satisfied: six<2,>=1.16.0 in ./.venv/lib/python3.9/site-packages (from tensorflowjs) (1.17.0)\r\n",
      "Requirement already satisfied: tensorflow-hub>=0.16.1 in ./.venv/lib/python3.9/site-packages (from tensorflowjs) (0.16.1)\r\n",
      "Requirement already satisfied: packaging~=23.1 in ./.venv/lib/python3.9/site-packages (from tensorflowjs) (23.2)\r\n",
      "Requirement already satisfied: numpy>=1.22 in ./.venv/lib/python3.9/site-packages (from flax>=0.7.2->tensorflowjs) (1.26.4)\r\n",
      "Requirement already satisfied: msgpack in ./.venv/lib/python3.9/site-packages (from flax>=0.7.2->tensorflowjs) (1.1.0)\r\n",
      "Requirement already satisfied: optax in ./.venv/lib/python3.9/site-packages (from flax>=0.7.2->tensorflowjs) (0.2.4)\r\n",
      "Requirement already satisfied: orbax-checkpoint in ./.venv/lib/python3.9/site-packages (from flax>=0.7.2->tensorflowjs) (0.6.4)\r\n",
      "Requirement already satisfied: tensorstore in ./.venv/lib/python3.9/site-packages (from flax>=0.7.2->tensorflowjs) (0.1.69)\r\n",
      "Requirement already satisfied: rich>=11.1 in ./.venv/lib/python3.9/site-packages (from flax>=0.7.2->tensorflowjs) (13.9.4)\r\n",
      "Requirement already satisfied: typing-extensions>=4.2 in ./.venv/lib/python3.9/site-packages (from flax>=0.7.2->tensorflowjs) (4.12.2)\r\n",
      "Requirement already satisfied: PyYAML>=5.4.1 in ./.venv/lib/python3.9/site-packages (from flax>=0.7.2->tensorflowjs) (6.0.2)\r\n",
      "Requirement already satisfied: zipp>=3.1.0 in ./.venv/lib/python3.9/site-packages (from importlib_resources>=5.9.0->tensorflowjs) (3.21.0)\r\n",
      "Requirement already satisfied: ml-dtypes>=0.2.0 in ./.venv/lib/python3.9/site-packages (from jax>=0.4.13->tensorflowjs) (0.3.2)\r\n",
      "Requirement already satisfied: opt-einsum in ./.venv/lib/python3.9/site-packages (from jax>=0.4.13->tensorflowjs) (3.4.0)\r\n",
      "Requirement already satisfied: scipy>=1.9 in ./.venv/lib/python3.9/site-packages (from jax>=0.4.13->tensorflowjs) (1.13.1)\r\n",
      "Requirement already satisfied: importlib-metadata>=4.6 in ./.venv/lib/python3.9/site-packages (from jax>=0.4.13->tensorflowjs) (8.6.1)\r\n",
      "Requirement already satisfied: absl-py>=1.0.0 in ./.venv/lib/python3.9/site-packages (from tensorflow<3,>=2.13.0->tensorflowjs) (2.1.0)\r\n",
      "Requirement already satisfied: astunparse>=1.6.0 in ./.venv/lib/python3.9/site-packages (from tensorflow<3,>=2.13.0->tensorflowjs) (1.6.3)\r\n",
      "Requirement already satisfied: flatbuffers>=23.5.26 in ./.venv/lib/python3.9/site-packages (from tensorflow<3,>=2.13.0->tensorflowjs) (25.2.10)\r\n",
      "Requirement already satisfied: gast!=0.5.0,!=0.5.1,!=0.5.2,>=0.2.1 in ./.venv/lib/python3.9/site-packages (from tensorflow<3,>=2.13.0->tensorflowjs) (0.6.0)\r\n",
      "Requirement already satisfied: google-pasta>=0.1.1 in ./.venv/lib/python3.9/site-packages (from tensorflow<3,>=2.13.0->tensorflowjs) (0.2.0)\r\n",
      "Requirement already satisfied: h5py>=3.10.0 in ./.venv/lib/python3.9/site-packages (from tensorflow<3,>=2.13.0->tensorflowjs) (3.13.0)\r\n",
      "Requirement already satisfied: libclang>=13.0.0 in ./.venv/lib/python3.9/site-packages (from tensorflow<3,>=2.13.0->tensorflowjs) (18.1.1)\r\n",
      "Requirement already satisfied: protobuf!=4.21.0,!=4.21.1,!=4.21.2,!=4.21.3,!=4.21.4,!=4.21.5,<5.0.0dev,>=3.20.3 in ./.venv/lib/python3.9/site-packages (from tensorflow<3,>=2.13.0->tensorflowjs) (4.25.6)\r\n",
      "Requirement already satisfied: requests<3,>=2.21.0 in ./.venv/lib/python3.9/site-packages (from tensorflow<3,>=2.13.0->tensorflowjs) (2.32.3)\r\n",
      "Requirement already satisfied: setuptools in ./.venv/lib/python3.9/site-packages (from tensorflow<3,>=2.13.0->tensorflowjs) (68.2.0)\r\n",
      "Requirement already satisfied: termcolor>=1.1.0 in ./.venv/lib/python3.9/site-packages (from tensorflow<3,>=2.13.0->tensorflowjs) (2.5.0)\r\n",
      "Requirement already satisfied: wrapt>=1.11.0 in ./.venv/lib/python3.9/site-packages (from tensorflow<3,>=2.13.0->tensorflowjs) (1.17.2)\r\n",
      "Requirement already satisfied: grpcio<2.0,>=1.24.3 in ./.venv/lib/python3.9/site-packages (from tensorflow<3,>=2.13.0->tensorflowjs) (1.70.0)\r\n",
      "Requirement already satisfied: tensorboard<2.17,>=2.16 in ./.venv/lib/python3.9/site-packages (from tensorflow<3,>=2.13.0->tensorflowjs) (2.16.2)\r\n",
      "Requirement already satisfied: keras>=3.0.0 in ./.venv/lib/python3.9/site-packages (from tensorflow<3,>=2.13.0->tensorflowjs) (3.8.0)\r\n",
      "Requirement already satisfied: tensorflow-io-gcs-filesystem>=0.23.1 in ./.venv/lib/python3.9/site-packages (from tensorflow<3,>=2.13.0->tensorflowjs) (0.37.1)\r\n",
      "Requirement already satisfied: pandas in ./.venv/lib/python3.9/site-packages (from tensorflow-decision-forests>=1.5.0->tensorflowjs) (2.2.3)\r\n",
      "Requirement already satisfied: wheel in ./.venv/lib/python3.9/site-packages (from tensorflow-decision-forests>=1.5.0->tensorflowjs) (0.41.2)\r\n",
      "Requirement already satisfied: wurlitzer in ./.venv/lib/python3.9/site-packages (from tensorflow-decision-forests>=1.5.0->tensorflowjs) (3.1.1)\r\n",
      "Requirement already satisfied: namex in ./.venv/lib/python3.9/site-packages (from keras>=3.0.0->tensorflow<3,>=2.13.0->tensorflowjs) (0.0.8)\r\n",
      "Requirement already satisfied: optree in ./.venv/lib/python3.9/site-packages (from keras>=3.0.0->tensorflow<3,>=2.13.0->tensorflowjs) (0.14.0)\r\n",
      "Requirement already satisfied: charset-normalizer<4,>=2 in ./.venv/lib/python3.9/site-packages (from requests<3,>=2.21.0->tensorflow<3,>=2.13.0->tensorflowjs) (3.4.1)\r\n",
      "Requirement already satisfied: idna<4,>=2.5 in ./.venv/lib/python3.9/site-packages (from requests<3,>=2.21.0->tensorflow<3,>=2.13.0->tensorflowjs) (3.10)\r\n",
      "Requirement already satisfied: urllib3<3,>=1.21.1 in ./.venv/lib/python3.9/site-packages (from requests<3,>=2.21.0->tensorflow<3,>=2.13.0->tensorflowjs) (2.3.0)\r\n",
      "Requirement already satisfied: certifi>=2017.4.17 in ./.venv/lib/python3.9/site-packages (from requests<3,>=2.21.0->tensorflow<3,>=2.13.0->tensorflowjs) (2025.1.31)\r\n",
      "Requirement already satisfied: markdown-it-py>=2.2.0 in ./.venv/lib/python3.9/site-packages (from rich>=11.1->flax>=0.7.2->tensorflowjs) (3.0.0)\r\n",
      "Requirement already satisfied: pygments<3.0.0,>=2.13.0 in ./.venv/lib/python3.9/site-packages (from rich>=11.1->flax>=0.7.2->tensorflowjs) (2.19.1)\r\n",
      "Requirement already satisfied: markdown>=2.6.8 in ./.venv/lib/python3.9/site-packages (from tensorboard<2.17,>=2.16->tensorflow<3,>=2.13.0->tensorflowjs) (3.7)\r\n",
      "Requirement already satisfied: tensorboard-data-server<0.8.0,>=0.7.0 in ./.venv/lib/python3.9/site-packages (from tensorboard<2.17,>=2.16->tensorflow<3,>=2.13.0->tensorflowjs) (0.7.2)\r\n",
      "Requirement already satisfied: werkzeug>=1.0.1 in ./.venv/lib/python3.9/site-packages (from tensorboard<2.17,>=2.16->tensorflow<3,>=2.13.0->tensorflowjs) (3.1.3)\r\n",
      "Requirement already satisfied: chex>=0.1.87 in ./.venv/lib/python3.9/site-packages (from optax->flax>=0.7.2->tensorflowjs) (0.1.89)\r\n",
      "Requirement already satisfied: etils[epy] in ./.venv/lib/python3.9/site-packages (from optax->flax>=0.7.2->tensorflowjs) (1.5.2)\r\n",
      "Requirement already satisfied: nest_asyncio in ./.venv/lib/python3.9/site-packages (from orbax-checkpoint->flax>=0.7.2->tensorflowjs) (1.6.0)\r\n",
      "Requirement already satisfied: humanize in ./.venv/lib/python3.9/site-packages (from orbax-checkpoint->flax>=0.7.2->tensorflowjs) (4.12.1)\r\n",
      "Requirement already satisfied: python-dateutil>=2.8.2 in ./.venv/lib/python3.9/site-packages (from pandas->tensorflow-decision-forests>=1.5.0->tensorflowjs) (2.9.0.post0)\r\n",
      "Requirement already satisfied: pytz>=2020.1 in ./.venv/lib/python3.9/site-packages (from pandas->tensorflow-decision-forests>=1.5.0->tensorflowjs) (2025.1)\r\n",
      "Requirement already satisfied: tzdata>=2022.7 in ./.venv/lib/python3.9/site-packages (from pandas->tensorflow-decision-forests>=1.5.0->tensorflowjs) (2025.1)\r\n",
      "Requirement already satisfied: toolz>=0.9.0 in ./.venv/lib/python3.9/site-packages (from chex>=0.1.87->optax->flax>=0.7.2->tensorflowjs) (1.0.0)\r\n",
      "Requirement already satisfied: mdurl~=0.1 in ./.venv/lib/python3.9/site-packages (from markdown-it-py>=2.2.0->rich>=11.1->flax>=0.7.2->tensorflowjs) (0.1.2)\r\n",
      "Requirement already satisfied: MarkupSafe>=2.1.1 in ./.venv/lib/python3.9/site-packages (from werkzeug>=1.0.1->tensorboard<2.17,>=2.16->tensorflow<3,>=2.13.0->tensorflowjs) (3.0.2)\r\n",
      "Requirement already satisfied: fsspec in ./.venv/lib/python3.9/site-packages (from etils[epath,epy]->orbax-checkpoint->flax>=0.7.2->tensorflowjs) (2025.2.0)\r\n",
      "WARNING:root:TensorFlow Decision Forests 1.9.0 is compatible with the following TensorFlow Versions: ['2.16.1']. However, TensorFlow 2.16.2 was detected. This can cause issues with the TF API and symbols in the custom C++ ops. See the TF and TF-DF compatibility table at https://github.com/tensorflow/decision-forests/blob/main/documentation/known_issues.md#compatibility-table.\r\n"
     ]
    }
   ],
   "execution_count": 125
  }
 ],
 "metadata": {
  "kernelspec": {
   "display_name": "Python 3",
   "language": "python",
   "name": "python3"
  },
  "language_info": {
   "codemirror_mode": {
    "name": "ipython",
    "version": 2
   },
   "file_extension": ".py",
   "mimetype": "text/x-python",
   "name": "python",
   "nbconvert_exporter": "python",
   "pygments_lexer": "ipython2",
   "version": "2.7.6"
  }
 },
 "nbformat": 4,
 "nbformat_minor": 5
}
